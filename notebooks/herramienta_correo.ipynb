{
 "cells": [
  {
   "cell_type": "code",
   "execution_count": 1,
   "id": "bfd69dba",
   "metadata": {},
   "outputs": [],
   "source": [
    "import pandas as pd\n",
    "from pandas import DataFrame\n",
    "import numpy as np"
   ]
  },
  {
   "cell_type": "code",
   "execution_count": null,
   "id": "edfdf6ae",
   "metadata": {},
   "outputs": [],
   "source": [
    "#pip install pretty-html-table"
   ]
  },
  {
   "cell_type": "code",
   "execution_count": 2,
   "id": "17a8ea68",
   "metadata": {},
   "outputs": [],
   "source": [
    "import smtplib\n",
    "import smtplib, ssl\n",
    "from pretty_html_table import build_table\n",
    "from email.mime.text import MIMEText\n",
    "from email.mime.multipart import MIMEMultipart"
   ]
  },
  {
   "cell_type": "code",
   "execution_count": 3,
   "id": "0b851fe6",
   "metadata": {},
   "outputs": [],
   "source": [
    "df_final = pd.read_csv(\"../output/consolidado.csv\")"
   ]
  },
  {
   "cell_type": "code",
   "execution_count": 4,
   "id": "5c357329",
   "metadata": {},
   "outputs": [],
   "source": [
    "#Meto el fichero en el que se incluye el stock actual por mmpp\n",
    "stock_actual = pd.read_excel('../../BBDD_proyecto_final/stock_actual_sol.xlsx', sheet_name = \"stock_actual\", index_col = False)"
   ]
  },
  {
   "cell_type": "code",
   "execution_count": 5,
   "id": "99fd4c92",
   "metadata": {},
   "outputs": [],
   "source": [
    "#df_final.head()"
   ]
  },
  {
   "cell_type": "code",
   "execution_count": 6,
   "id": "fa0bf10c",
   "metadata": {},
   "outputs": [
    {
     "data": {
      "text/html": [
       "<div>\n",
       "<style scoped>\n",
       "    .dataframe tbody tr th:only-of-type {\n",
       "        vertical-align: middle;\n",
       "    }\n",
       "\n",
       "    .dataframe tbody tr th {\n",
       "        vertical-align: top;\n",
       "    }\n",
       "\n",
       "    .dataframe thead th {\n",
       "        text-align: right;\n",
       "    }\n",
       "</style>\n",
       "<table border=\"1\" class=\"dataframe\">\n",
       "  <thead>\n",
       "    <tr style=\"text-align: right;\">\n",
       "      <th></th>\n",
       "      <th>id_mmpp</th>\n",
       "      <th>Stock_actual</th>\n",
       "    </tr>\n",
       "  </thead>\n",
       "  <tbody>\n",
       "    <tr>\n",
       "      <th>0</th>\n",
       "      <td>2250_mmpp_102</td>\n",
       "      <td>354800.0</td>\n",
       "    </tr>\n",
       "    <tr>\n",
       "      <th>1</th>\n",
       "      <td>2250_mmpp_107</td>\n",
       "      <td>55205.0</td>\n",
       "    </tr>\n",
       "    <tr>\n",
       "      <th>2</th>\n",
       "      <td>2250_mmpp_110</td>\n",
       "      <td>769.0</td>\n",
       "    </tr>\n",
       "    <tr>\n",
       "      <th>3</th>\n",
       "      <td>2250_mmpp_118</td>\n",
       "      <td>38492.5</td>\n",
       "    </tr>\n",
       "    <tr>\n",
       "      <th>4</th>\n",
       "      <td>2250_mmpp_123</td>\n",
       "      <td>23340.0</td>\n",
       "    </tr>\n",
       "  </tbody>\n",
       "</table>\n",
       "</div>"
      ],
      "text/plain": [
       "         id_mmpp  Stock_actual\n",
       "0  2250_mmpp_102      354800.0\n",
       "1  2250_mmpp_107       55205.0\n",
       "2  2250_mmpp_110         769.0\n",
       "3  2250_mmpp_118       38492.5\n",
       "4  2250_mmpp_123       23340.0"
      ]
     },
     "execution_count": 6,
     "metadata": {},
     "output_type": "execute_result"
    }
   ],
   "source": [
    "stock_actual.head()"
   ]
  },
  {
   "cell_type": "code",
   "execution_count": 7,
   "id": "abd49b4e",
   "metadata": {},
   "outputs": [],
   "source": [
    "#creo un unico dataframe\n",
    "consolidado_final = df_final.merge(stock_actual, on='id_mmpp', how='left')"
   ]
  },
  {
   "cell_type": "code",
   "execution_count": 8,
   "id": "4537418f",
   "metadata": {},
   "outputs": [
    {
     "data": {
      "text/html": [
       "<div>\n",
       "<style scoped>\n",
       "    .dataframe tbody tr th:only-of-type {\n",
       "        vertical-align: middle;\n",
       "    }\n",
       "\n",
       "    .dataframe tbody tr th {\n",
       "        vertical-align: top;\n",
       "    }\n",
       "\n",
       "    .dataframe thead th {\n",
       "        text-align: right;\n",
       "    }\n",
       "</style>\n",
       "<table border=\"1\" class=\"dataframe\">\n",
       "  <thead>\n",
       "    <tr style=\"text-align: right;\">\n",
       "      <th></th>\n",
       "      <th>Unnamed: 0</th>\n",
       "      <th>id_mmpp</th>\n",
       "      <th>Consumo_diario</th>\n",
       "      <th>Plazo de entrega</th>\n",
       "      <th>Stock de seguridad</th>\n",
       "      <th>punto_pedido</th>\n",
       "      <th>Stock_actual</th>\n",
       "    </tr>\n",
       "  </thead>\n",
       "  <tbody>\n",
       "    <tr>\n",
       "      <th>0</th>\n",
       "      <td>244</td>\n",
       "      <td>2250_mmpp_102</td>\n",
       "      <td>3633.080359</td>\n",
       "      <td>8.0</td>\n",
       "      <td>350000.0</td>\n",
       "      <td>379064.642871</td>\n",
       "      <td>354800.0</td>\n",
       "    </tr>\n",
       "    <tr>\n",
       "      <th>1</th>\n",
       "      <td>247</td>\n",
       "      <td>2250_mmpp_107</td>\n",
       "      <td>1029.582816</td>\n",
       "      <td>3.0</td>\n",
       "      <td>0.0</td>\n",
       "      <td>3088.748447</td>\n",
       "      <td>55205.0</td>\n",
       "    </tr>\n",
       "    <tr>\n",
       "      <th>2</th>\n",
       "      <td>248</td>\n",
       "      <td>2250_mmpp_110</td>\n",
       "      <td>4.948102</td>\n",
       "      <td>15.0</td>\n",
       "      <td>300.0</td>\n",
       "      <td>374.221524</td>\n",
       "      <td>769.0</td>\n",
       "    </tr>\n",
       "    <tr>\n",
       "      <th>3</th>\n",
       "      <td>249</td>\n",
       "      <td>2250_mmpp_118</td>\n",
       "      <td>1502.440370</td>\n",
       "      <td>20.0</td>\n",
       "      <td>30000.0</td>\n",
       "      <td>60048.807403</td>\n",
       "      <td>38492.5</td>\n",
       "    </tr>\n",
       "    <tr>\n",
       "      <th>4</th>\n",
       "      <td>250</td>\n",
       "      <td>2250_mmpp_123</td>\n",
       "      <td>392.969190</td>\n",
       "      <td>15.0</td>\n",
       "      <td>15000.0</td>\n",
       "      <td>20894.537845</td>\n",
       "      <td>23340.0</td>\n",
       "    </tr>\n",
       "  </tbody>\n",
       "</table>\n",
       "</div>"
      ],
      "text/plain": [
       "   Unnamed: 0        id_mmpp  Consumo_diario  Plazo de entrega  \\\n",
       "0         244  2250_mmpp_102     3633.080359               8.0   \n",
       "1         247  2250_mmpp_107     1029.582816               3.0   \n",
       "2         248  2250_mmpp_110        4.948102              15.0   \n",
       "3         249  2250_mmpp_118     1502.440370              20.0   \n",
       "4         250  2250_mmpp_123      392.969190              15.0   \n",
       "\n",
       "   Stock de seguridad   punto_pedido  Stock_actual  \n",
       "0            350000.0  379064.642871      354800.0  \n",
       "1                 0.0    3088.748447       55205.0  \n",
       "2               300.0     374.221524         769.0  \n",
       "3             30000.0   60048.807403       38492.5  \n",
       "4             15000.0   20894.537845       23340.0  "
      ]
     },
     "execution_count": 8,
     "metadata": {},
     "output_type": "execute_result"
    }
   ],
   "source": [
    "consolidado_final.head()"
   ]
  },
  {
   "cell_type": "code",
   "execution_count": 30,
   "id": "accd0b44",
   "metadata": {},
   "outputs": [],
   "source": [
    "def send_email(temperature):\n",
    "    fromaddr = \"prueba.stocks.ironhack@gmail.com\"\n",
    "    toaddr = \"sm.oriol.lapetra@gmail.com\"\n",
    "    msg = MIMEMultipart()\n",
    "    msg['From'] = fromaddr\n",
    "    msg['To'] = toaddr\n",
    "    msg['Subject'] = \"Necesidad de compra  \"\n",
    "    body = \"La materia prima\" + temperature + \"ha llegado al punto de pedido\"\n",
    "    msg.attach(MIMEText(body, 'plain'))\n",
    "    server = smtplib.SMTP('smtp.gmail.com', 587)\n",
    "    server.ehlo()\n",
    "    server.starttls()\n",
    "    server.login(fromaddr, \"efdgiyqmdioyunec\")\n",
    "    text = msg.as_string()\n",
    "    server.sendmail(fromaddr, toaddr, text)\n",
    "    server.quit()\n",
    "\n",
    "\n",
    "#f = open(\"temp_log.txt\", \"r\")\n",
    "#content = f.read()\n",
    "#temp = content.split(' ')[1]\n",
    "#if float(temp) > 35:\n",
    "    #(temp)"
   ]
  },
  {
   "cell_type": "code",
   "execution_count": 31,
   "id": "0999e78a",
   "metadata": {},
   "outputs": [],
   "source": [
    "send_email(\"prueba\")"
   ]
  },
  {
   "cell_type": "code",
   "execution_count": null,
   "id": "fd9497d1",
   "metadata": {},
   "outputs": [],
   "source": []
  }
 ],
 "metadata": {
  "kernelspec": {
   "display_name": "Python [conda env:ironhack]",
   "language": "python",
   "name": "conda-env-ironhack-py"
  },
  "language_info": {
   "codemirror_mode": {
    "name": "ipython",
    "version": 3
   },
   "file_extension": ".py",
   "mimetype": "text/x-python",
   "name": "python",
   "nbconvert_exporter": "python",
   "pygments_lexer": "ipython3",
   "version": "3.7.11"
  }
 },
 "nbformat": 4,
 "nbformat_minor": 5
}
